{
 "cells": [
  {
   "cell_type": "code",
   "execution_count": 1,
   "metadata": {},
   "outputs": [],
   "source": [
    "import numpy as np"
   ]
  },
  {
   "cell_type": "code",
   "execution_count": 7,
   "metadata": {},
   "outputs": [
    {
     "name": "stdout",
     "output_type": "stream",
     "text": [
      "[[1 2]\n",
      " [0 1]\n",
      " [2 3]]\n",
      "[[2]\n",
      " [6]]\n",
      "[[14]\n",
      " [ 6]\n",
      " [22]]\n",
      "[[19]\n",
      " [ 7]\n",
      " [31]]\n"
     ]
    }
   ],
   "source": [
    "A = np.array([[1,2], [0,1], [2,3]])\n",
    "v = np.array([[2], [6]])\n",
    "c = np.array([[5], [7]])\n",
    "print(A)\n",
    "print(v)\n",
    "print(np.dot(A, v))\n",
    "print(np.dot(A, c))"
   ]
  },
  {
   "cell_type": "code",
   "execution_count": 9,
   "metadata": {},
   "outputs": [
    {
     "name": "stdout",
     "output_type": "stream",
     "text": [
      "[[1 2]\n",
      " [0 1]\n",
      " [2 3]]\n",
      "[[2 5]\n",
      " [6 7]]\n",
      "[[14 19]\n",
      " [ 6  7]\n",
      " [22 31]]\n"
     ]
    }
   ],
   "source": [
    "A = np.array([[1,2], [0,1], [2,3]])\n",
    "B = np.array([[2, 5], [6, 7]])\n",
    "print(A)\n",
    "print(B)\n",
    "print(np.dot(A,B))"
   ]
  },
  {
   "cell_type": "code",
   "execution_count": 10,
   "metadata": {},
   "outputs": [
    {
     "name": "stdout",
     "output_type": "stream",
     "text": [
      "[[1 2 3]\n",
      " [4 5 6]\n",
      " [7 8 9]]\n",
      "[[1 4 7]\n",
      " [2 5 8]\n",
      " [3 6 9]]\n"
     ]
    }
   ],
   "source": [
    "A = np.array([[1,2,3], [4,5,6], [7,8,9]])\n",
    "print(A)\n",
    "print(A.T)"
   ]
  },
  {
   "cell_type": "code",
   "execution_count": 17,
   "metadata": {},
   "outputs": [
    {
     "name": "stdout",
     "output_type": "stream",
     "text": [
      "[[ 14  32  50]\n",
      " [ 32  77 122]\n",
      " [ 50 122 194]]\n",
      "[[ 66  78  90]\n",
      " [ 78  93 108]\n",
      " [ 90 108 126]]\n"
     ]
    }
   ],
   "source": [
    "tran = np.transpose(A)\n",
    "# print(A*tran)\n",
    "print(np.dot(A, A.T))\n",
    "print(np.dot(A.T, A))"
   ]
  },
  {
   "cell_type": "code",
   "execution_count": 18,
   "metadata": {},
   "outputs": [],
   "source": [
    "from numpy import linalg as LA"
   ]
  },
  {
   "cell_type": "code",
   "execution_count": 19,
   "metadata": {},
   "outputs": [
    {
     "data": {
      "text/plain": [
       "5.0"
      ]
     },
     "execution_count": 19,
     "metadata": {},
     "output_type": "execute_result"
    }
   ],
   "source": [
    "v = np.array([3,4])\n",
    "LA.norm(v)"
   ]
  },
  {
   "cell_type": "code",
   "execution_count": 20,
   "metadata": {},
   "outputs": [
    {
     "data": {
      "text/plain": [
       "5.0"
      ]
     },
     "execution_count": 20,
     "metadata": {},
     "output_type": "execute_result"
    }
   ],
   "source": [
    "np.sqrt(np.dot(v,v.T))"
   ]
  },
  {
   "cell_type": "code",
   "execution_count": 29,
   "metadata": {},
   "outputs": [],
   "source": [
    "def distance(a,b):\n",
    "    distance1 = np.array(a)\n",
    "    distance2 = np.array(b)\n",
    "    \n",
    "    u - v\n",
    "    u - r\n",
    "    v - r\n",
    "    return LA.norm(distance1)"
   ]
  },
  {
   "cell_type": "code",
   "execution_count": 31,
   "metadata": {},
   "outputs": [
    {
     "name": "stdout",
     "output_type": "stream",
     "text": [
      "1.4142135623730951\n",
      "7.280109889280518\n",
      "6.082762530298219\n"
     ]
    },
    {
     "data": {
      "text/plain": [
       "2.23606797749979"
      ]
     },
     "execution_count": 31,
     "metadata": {},
     "output_type": "execute_result"
    }
   ],
   "source": [
    "u = np.array([1,1])\n",
    "v = np.array([2,2])\n",
    "r = np.array([3,8])\n",
    "print(LA.norm(u - v))\n",
    "print(LA.norm(u - r))\n",
    "print(LA.norm(v - r))\n",
    "distance(a,b)"
   ]
  },
  {
   "cell_type": "code",
   "execution_count": null,
   "metadata": {},
   "outputs": [],
   "source": []
  },
  {
   "cell_type": "code",
   "execution_count": null,
   "metadata": {},
   "outputs": [],
   "source": []
  }
 ],
 "metadata": {
  "kernelspec": {
   "display_name": "Python 3",
   "language": "python",
   "name": "python3"
  },
  "language_info": {
   "codemirror_mode": {
    "name": "ipython",
    "version": 3
   },
   "file_extension": ".py",
   "mimetype": "text/x-python",
   "name": "python",
   "nbconvert_exporter": "python",
   "pygments_lexer": "ipython3",
   "version": "3.7.6"
  }
 },
 "nbformat": 4,
 "nbformat_minor": 2
}
