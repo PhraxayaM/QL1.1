{
 "cells": [
  {
   "cell_type": "code",
   "execution_count": 1,
   "metadata": {
    "scrolled": true
   },
   "outputs": [
    {
     "ename": "ModuleNotFoundError",
     "evalue": "No module named 'numpy'",
     "output_type": "error",
     "traceback": [
      "\u001b[0;31m---------------------------------------------------------------------------\u001b[0m",
      "\u001b[0;31mModuleNotFoundError\u001b[0m                       Traceback (most recent call last)",
      "\u001b[0;32m<ipython-input-1-0aa0b027fcb6>\u001b[0m in \u001b[0;36m<module>\u001b[0;34m\u001b[0m\n\u001b[0;32m----> 1\u001b[0;31m \u001b[0;32mimport\u001b[0m \u001b[0mnumpy\u001b[0m \u001b[0;32mas\u001b[0m \u001b[0mnp\u001b[0m\u001b[0;34m\u001b[0m\u001b[0;34m\u001b[0m\u001b[0m\n\u001b[0m",
      "\u001b[0;31mModuleNotFoundError\u001b[0m: No module named 'numpy'"
     ]
    }
   ],
   "source": [
    "import numpy as np"
   ]
  },
  {
   "cell_type": "code",
   "execution_count": 3,
   "metadata": {},
   "outputs": [
    {
     "name": "stdout",
     "output_type": "stream",
     "text": [
      "/usr/local/Cellar/jupyterlab/1.2.4/libexec/bin/python3.7\n",
      "=============================\n"
     ]
    },
    {
     "data": {
      "text/plain": [
       "['/Users/matthewphraxayavong/dev/ql',\n",
       " '/usr/local/Cellar/jupyterlab/1.2.4/libexec/lib/python37.zip',\n",
       " '/usr/local/Cellar/jupyterlab/1.2.4/libexec/lib/python3.7',\n",
       " '/usr/local/Cellar/jupyterlab/1.2.4/libexec/lib/python3.7/lib-dynload',\n",
       " '/usr/local/opt/python/Frameworks/Python.framework/Versions/3.7/lib/python3.7',\n",
       " '',\n",
       " '/usr/local/Cellar/jupyterlab/1.2.4/libexec/lib/python3.7/site-packages',\n",
       " '/usr/local/Cellar/jupyterlab/1.2.4/libexec/lib/python3.7/site-packages/IPython/extensions',\n",
       " '/Users/matthewphraxayavong/.ipython']"
      ]
     },
     "execution_count": 3,
     "metadata": {},
     "output_type": "execute_result"
    }
   ],
   "source": [
    "import sys\n",
    "print(sys.executable)\n",
    "print('=============================')\n",
    "sys.path"
   ]
  },
  {
   "cell_type": "code",
   "execution_count": 4,
   "metadata": {},
   "outputs": [],
   "source": [
    "import numpy as np"
   ]
  },
  {
   "cell_type": "code",
   "execution_count": 11,
   "metadata": {},
   "outputs": [
    {
     "name": "stdout",
     "output_type": "stream",
     "text": [
      "0.0\n"
     ]
    }
   ],
   "source": [
    "# def cov_matrix_calculation(data):\n",
    "#     # calculate covariance matrix of the data\n",
    "#     cov_matx = np.cov(data.T)\n",
    "#     return cov_matx\n",
    "\n",
    "# dataset = np.array([[1, 1, 1], [1, 2, 1], [1, 3, 2], [1, 4, 3]])\n",
    "# print(cov_matrix_calculation(dataset))\n",
    "\n",
    "def cov(list1, list2):\n",
    "\n",
    "    if len(list1) != len(list2):\n",
    "        return\n",
    "    list1_mean = np.mean(list1)\n",
    "    list2_mean = np.mean(list2)\n",
    "    sum = 0\n",
    "    for (x,y) in zip(list1, list2):\n",
    "        sum += ((x - list1_mean) * (y - list2_mean))\n",
    "\n",
    "    return sum/(len(list1)-1)\n",
    "dataset = np.array([[1, 1, 1], [1, 2, 1], [1, 3, 2], [1, 4, 3]])\n",
    "dataset1 = [1, 1, 1, 1]\n",
    "dataset2 = [1, 2, 3, 4]\n",
    "dataset3 = [1, 1, 2, 3]\n",
    "print(cov(dataset1, dataset2))\n",
    "\n"
   ]
  },
  {
   "cell_type": "markdown",
   "metadata": {},
   "source": [
    "Step 1: Take in two lists and return the covariance of the list\n",
    "Step 2: Extend into xyz"
   ]
  },
  {
   "cell_type": "code",
   "execution_count": 6,
   "metadata": {},
   "outputs": [
    {
     "name": "stdout",
     "output_type": "stream",
     "text": [
      "0.3333333333333333\n"
     ]
    }
   ],
   "source": [
    "def variance(lst):\n",
    "    list_mean = np.mean(lst)\n",
    "    Sum = 0\n",
    "    for element in lst:\n",
    "        Sum += (element - list_mean) ** 2\n",
    "    return Sum / (len(lst) - 1)\n",
    "\n",
    "print(variance(dataset2))"
   ]
  },
  {
   "cell_type": "code",
   "execution_count": 13,
   "metadata": {},
   "outputs": [],
   "source": [
    "def cov_mtx(X, Y, Z):\n",
    "    covXY = cov(X, Y)\n",
    "    covXZ = cov(X, Z)\n",
    "    covYZ = cov(Y, Z)\n",
    "    varX = variance(X)\n",
    "    varY = variance(Y)\n",
    "    varZ = variance(Z)\n",
    "    \n",
    "    extend = (\n",
    "        f'{varX: .9} {covXY: .9} {covXZ: .9} \\n'\n",
    "        f'{covXY: .9} {varY: .9} {covYZ: .9} \\n'\n",
    "        f'{covXZ: .9} {covYZ: .9} {varZ: .9} \\n'\n",
    "    )\n",
    "    \n",
    "    return (extend)"
   ]
  },
  {
   "cell_type": "code",
   "execution_count": 14,
   "metadata": {},
   "outputs": [
    {
     "name": "stdout",
     "output_type": "stream",
     "text": [
      " 0.0  0.0  0.0 \n",
      " 0.0  1.66666667  1.16666667 \n",
      " 0.0  1.16666667  0.916666667 \n",
      "\n"
     ]
    }
   ],
   "source": [
    "print(cov_mtx(dataset1, dataset2, dataset3))"
   ]
  },
  {
   "cell_type": "code",
   "execution_count": 15,
   "metadata": {},
   "outputs": [
    {
     "name": "stdout",
     "output_type": "stream",
     "text": [
      "[[0.         0.         0.        ]\n",
      " [0.         1.66666667 1.16666667]\n",
      " [0.         1.16666667 0.91666667]]\n"
     ]
    }
   ],
   "source": [
    "def cov_matrix_calculation(data):\n",
    "    # calculate covariance matrix of the data\n",
    "    cov_matx = np.cov(data.T)\n",
    "    return cov_matx\n",
    "\n",
    "dataset = np.array([[1, 1, 1], [1, 2, 1], [1, 3, 2], [1, 4, 3]])\n",
    "print(cov_matrix_calculation(dataset))"
   ]
  },
  {
   "cell_type": "code",
   "execution_count": null,
   "metadata": {},
   "outputs": [],
   "source": []
  }
 ],
 "metadata": {
  "kernelspec": {
   "display_name": "Python 3",
   "language": "python",
   "name": "python3"
  },
  "language_info": {
   "codemirror_mode": {
    "name": "ipython",
    "version": 3
   },
   "file_extension": ".py",
   "mimetype": "text/x-python",
   "name": "python",
   "nbconvert_exporter": "python",
   "pygments_lexer": "ipython3",
   "version": "3.7.6"
  }
 },
 "nbformat": 4,
 "nbformat_minor": 2
}
