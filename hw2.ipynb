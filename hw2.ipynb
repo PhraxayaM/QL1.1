{
 "cells": [
  {
   "cell_type": "code",
   "execution_count": 19,
   "metadata": {},
   "outputs": [],
   "source": [
    "import random"
   ]
  },
  {
   "cell_type": "code",
   "execution_count": 2,
   "metadata": {},
   "outputs": [],
   "source": [
    "import random\n",
    "#p of h = p(a) p(h)*p(h)*p(t)\n",
    "\n",
    "def trial():\n",
    "    heads = 0\n",
    "    for i in range(100):\n",
    "        if random.random() <= 0.5:\n",
    "            heads +=1\n",
    "    return heads\n",
    "\n",
    "def simulate(n):\n",
    "   trials = []\n",
    "   for i in range(n):\n",
    "       trials.append(trial())\n",
    "   return(sum(trials)/n)\n"
   ]
  },
  {
   "cell_type": "code",
   "execution_count": 22,
   "metadata": {},
   "outputs": [
    {
     "data": {
      "text/plain": [
       "49.6"
      ]
     },
     "execution_count": 22,
     "metadata": {},
     "output_type": "execute_result"
    }
   ],
   "source": [
    "simulate(10)"
   ]
  },
  {
   "cell_type": "code",
   "execution_count": 9,
   "metadata": {},
   "outputs": [
    {
     "data": {
      "text/plain": [
       "48.5"
      ]
     },
     "execution_count": 9,
     "metadata": {},
     "output_type": "execute_result"
    }
   ],
   "source": [
    "simulate(10)\n"
   ]
  },
  {
   "cell_type": "code",
   "execution_count": 10,
   "metadata": {},
   "outputs": [
    {
     "data": {
      "text/plain": [
       "49.7"
      ]
     },
     "execution_count": 10,
     "metadata": {},
     "output_type": "execute_result"
    }
   ],
   "source": [
    "simulate(10)"
   ]
  },
  {
   "cell_type": "code",
   "execution_count": 20,
   "metadata": {},
   "outputs": [],
   "source": [
    "from random import choices \n",
    "\n",
    "def flip(probability, trials):\n",
    "    possibilities = ['H', 'T']\n",
    "    successes = [['H', 'H', 'T'], ['H', 'T', 'H'], ['T', 'H', 'H']]\n",
    "    good_trials = 0\n",
    "    weight = [probability, 1-probability]\n",
    "    \n",
    "    for _ in range(trials):\n",
    "        trial = []\n",
    "        trial.append(choices(possibilities, weight)[0])\n",
    "        trial.append(choices(possibilities, weight)[0])\n",
    "        trial.append(choices(possibilities, weight)[0])\n",
    "        \n",
    "        if trial in successes:\n",
    "            good_trials += 1\n",
    "\n",
    "    return good_trials / trials\n"
   ]
  },
  {
   "cell_type": "code",
   "execution_count": 21,
   "metadata": {},
   "outputs": [
    {
     "data": {
      "text/plain": [
       "0.384"
      ]
     },
     "execution_count": 21,
     "metadata": {},
     "output_type": "execute_result"
    }
   ],
   "source": [
    "flip(0.5, 1000)\n"
   ]
  },
  {
   "cell_type": "code",
   "execution_count": null,
   "metadata": {},
   "outputs": [],
   "source": []
  },
  {
   "cell_type": "code",
   "execution_count": null,
   "metadata": {},
   "outputs": [],
   "source": []
  }
 ],
 "metadata": {
  "kernelspec": {
   "display_name": "Python 3",
   "language": "python",
   "name": "python3"
  },
  "language_info": {
   "codemirror_mode": {
    "name": "ipython",
    "version": 3
   },
   "file_extension": ".py",
   "mimetype": "text/x-python",
   "name": "python",
   "nbconvert_exporter": "python",
   "pygments_lexer": "ipython3",
   "version": "3.7.6"
  }
 },
 "nbformat": 4,
 "nbformat_minor": 2
}
