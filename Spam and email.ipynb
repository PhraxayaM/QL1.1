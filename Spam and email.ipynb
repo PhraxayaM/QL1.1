{
 "cells": [
  {
   "cell_type": "code",
   "execution_count": 4,
   "metadata": {},
   "outputs": [
    {
     "data": {
      "text/plain": [
       "['Send', 'your', 'password']"
      ]
     },
     "execution_count": 4,
     "metadata": {},
     "output_type": "execute_result"
    }
   ],
   "source": [
    "spam = {\n",
    "    \"password\": 2,\n",
    "    \"review\": 1,\n",
    "    \"send\": 3,\n",
    "    \"us\": 3,\n",
    "    \"your\": 3,\n",
    "    \"account\": 1\n",
    "}\n",
    "spam_text= ['Send us your password', 'review us', 'Send your password', 'Send us your account']\n",
    "\n",
    "s1 = [\"Send us your password\"]\n",
    "s2 = [\"Send us your review\"]\n",
    "s1[0].split(' ')"
   ]
  },
  {
   "cell_type": "code",
   "execution_count": 54,
   "metadata": {},
   "outputs": [
    {
     "name": "stdout",
     "output_type": "stream",
     "text": [
      "['Send', 'us', 'your', 'password', 'review', 'us', 'Send', 'your', 'password', 'Send', 'us', 'your', 'account']\n"
     ]
    },
    {
     "data": {
      "text/plain": [
       "{'password': 1, 'review': 1, 'send': 1, 'us': 1, 'your': 1, 'account': 1}"
      ]
     },
     "execution_count": 54,
     "metadata": {},
     "output_type": "execute_result"
    }
   ],
   "source": [
    "spam_text = [\"Send us your password\", \"review us\", \"Send your password\", \"Send us your account\"]\n",
    "def convert(lst):\n",
    "    all_words = []\n",
    "    for sentence in lst:\n",
    "        for word in sentence.split(' '):\n",
    "            all_words.append(word)\n",
    "    return all_words\n",
    "\n",
    "print(convert(spam_text))\n",
    "all_words = convert(spam)\n",
    "\n",
    "def histogram(word_list):\n",
    "    word_count = {}\n",
    "    for word in word_list: \n",
    "        if word in word_count:\n",
    "            word_count[word] += 1\n",
    "        else:\n",
    "            word_count[word] = 1\n",
    "    return word_count\n",
    "\n",
    "test = [\"hey\", \"test\", \"hey\"]\n",
    "histogram(all_words)\n",
    "# histogram(test)"
   ]
  },
  {
   "cell_type": "code",
   "execution_count": 47,
   "metadata": {},
   "outputs": [
    {
     "name": "stdout",
     "output_type": "stream",
     "text": [
      "0.3333333333333333\n"
     ]
    }
   ],
   "source": [
    "spam = {\n",
    "    \"password\": 2,\n",
    "    \"review\": 1,\n",
    "    \"send\": 3,\n",
    "    \"us\": 3,\n",
    "    \"your\": 3,\n",
    "    \"account\": 1\n",
    "}\n",
    "p_password_given_spam = spam['review']/sum(spam.values())\n",
    "p_password_given_ham = ham['review']/sum(ham.values())\n",
    "print(p_password_given_ham)"
   ]
  },
  {
   "cell_type": "code",
   "execution_count": 53,
   "metadata": {},
   "outputs": [
    {
     "name": "stdout",
     "output_type": "stream",
     "text": [
      "0.16239316239316237\n",
      "password\n",
      "0.15384615384615385\n",
      "review\n",
      "0.07692307692307693\n",
      "send\n",
      "0.23076923076923078\n",
      "us\n",
      "0.23076923076923078\n",
      "your\n",
      "0.23076923076923078\n",
      "account\n",
      "0.07692307692307693\n"
     ]
    }
   ],
   "source": [
    "spam = {\n",
    "    \"password\": 2,\n",
    "    \"review\": 1,\n",
    "    \"send\": 3,\n",
    "    \"us\": 3,\n",
    "    \"your\": 3,\n",
    "    \"account\": 1\n",
    "}\n",
    "\n",
    "p_spam = 4/6\n",
    "p_ham = 2/6\n",
    "ls1 = []\n",
    "ls2 = []\n",
    "p_password = p_password_given_spam*p_spam + p_password_given_ham*p_ham\n",
    "print(p_password)\n",
    "for i in spam:\n",
    "    print(i)\n",
    "    p_word_given_spam = spam[i]/sum(spam.values())\n",
    "    p_word_given_ham = ham[]/sum(ham.values())\n",
    "    print(p_word_given_spam)"
   ]
  },
  {
   "cell_type": "code",
   "execution_count": null,
   "metadata": {},
   "outputs": [],
   "source": []
  }
 ],
 "metadata": {
  "kernelspec": {
   "display_name": "Python 3",
   "language": "python",
   "name": "python3"
  },
  "language_info": {
   "codemirror_mode": {
    "name": "ipython",
    "version": 3
   },
   "file_extension": ".py",
   "mimetype": "text/x-python",
   "name": "python",
   "nbconvert_exporter": "python",
   "pygments_lexer": "ipython3",
   "version": "3.7.6"
  }
 },
 "nbformat": 4,
 "nbformat_minor": 2
}
