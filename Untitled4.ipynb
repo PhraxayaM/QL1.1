{
 "cells": [
  {
   "cell_type": "code",
   "execution_count": 1,
   "metadata": {},
   "outputs": [
    {
     "name": "stdout",
     "output_type": "stream",
     "text": [
      "0.5\n"
     ]
    }
   ],
   "source": [
    "Kevin 1st, 4/10, 2nd 3\n",
    "print(7/14)"
   ]
  },
  {
   "cell_type": "code",
   "execution_count": 2,
   "metadata": {},
   "outputs": [
    {
     "name": "stdout",
     "output_type": "stream",
     "text": [
      "0.5714285714285714\n"
     ]
    }
   ],
   "source": [
    "print(8/14)"
   ]
  },
  {
   "cell_type": "code",
   "execution_count": 8,
   "metadata": {},
   "outputs": [
    {
     "name": "stdout",
     "output_type": "stream",
     "text": [
      "496.951\n"
     ]
    }
   ],
   "source": [
    "print(0.889*559)"
   ]
  },
  {
   "cell_type": "code",
   "execution_count": 10,
   "metadata": {},
   "outputs": [
    {
     "data": {
      "text/plain": [
       "496.951"
      ]
     },
     "execution_count": 10,
     "metadata": {},
     "output_type": "execute_result"
    }
   ],
   "source": [
    "def calc(onTime, arrival):\n",
    "    return onTime*arrival\n",
    "\n",
    "calc(0.889, 559)"
   ]
  },
  {
   "cell_type": "code",
   "execution_count": 12,
   "metadata": {},
   "outputs": [
    {
     "data": {
      "text/plain": [
       "220.884"
      ]
     },
     "execution_count": 12,
     "metadata": {},
     "output_type": "execute_result"
    }
   ],
   "source": [
    "# Phoenix\n",
    "calc(0.948, 233)"
   ]
  },
  {
   "cell_type": "code",
   "execution_count": 13,
   "metadata": {},
   "outputs": [
    {
     "data": {
      "text/plain": [
       "212.048"
      ]
     },
     "execution_count": 13,
     "metadata": {},
     "output_type": "execute_result"
    }
   ],
   "source": [
    "#San Diego\n",
    "calc(0.914, 232)"
   ]
  },
  {
   "cell_type": "code",
   "execution_count": 14,
   "metadata": {},
   "outputs": [
    {
     "data": {
      "text/plain": [
       "502.755"
      ]
     },
     "execution_count": 14,
     "metadata": {},
     "output_type": "execute_result"
    }
   ],
   "source": [
    "#SF\n",
    "calc(0.831, 605)"
   ]
  },
  {
   "cell_type": "code",
   "execution_count": 15,
   "metadata": {},
   "outputs": [
    {
     "data": {
      "text/plain": [
       "1841.268"
      ]
     },
     "execution_count": 15,
     "metadata": {},
     "output_type": "execute_result"
    }
   ],
   "source": [
    "#Seatle\n",
    "calc(0.858, 2146)"
   ]
  },
  {
   "cell_type": "code",
   "execution_count": 16,
   "metadata": {},
   "outputs": [],
   "source": [
    "import numpy as np\n",
    "X = np.array(\n",
    "[[73.847017017515, 241.893563180437],\n",
    " [68.7819040458903, 162.3104725213],\n",
    " [74.1101053917849, 212.7408555565],\n",
    " [71.7309784033377, 220.042470303077],\n",
    " [69.8817958611153, 206.349800623871],\n",
    " [67.2530156878065, 152.212155757083],\n",
    " [68.7850812516616, 183.927888604031],\n",
    " [68.3485155115879, 167.971110489509],\n",
    " [67.018949662883, 175.92944039571],\n",
    " [63.4564939783664, 156.399676387112]]\n",
    ")"
   ]
  },
  {
   "cell_type": "code",
   "execution_count": 22,
   "metadata": {},
   "outputs": [
    {
     "data": {
      "text/plain": [
       "(10, 2)"
      ]
     },
     "execution_count": 22,
     "metadata": {},
     "output_type": "execute_result"
    }
   ],
   "source": [
    "X.shape"
   ]
  },
  {
   "cell_type": "code",
   "execution_count": 23,
   "metadata": {},
   "outputs": [
    {
     "name": "stdout",
     "output_type": "stream",
     "text": [
      "[73.84701702 68.78190405 74.11010539 71.7309784  69.88179586 67.25301569\n",
      " 68.78508125 68.34851551 67.01894966 63.45649398]\n"
     ]
    }
   ],
   "source": [
    "print(X[:, 0])"
   ]
  },
  {
   "cell_type": "code",
   "execution_count": 24,
   "metadata": {},
   "outputs": [
    {
     "data": {
      "text/plain": [
       "69.32138568119487"
      ]
     },
     "execution_count": 24,
     "metadata": {},
     "output_type": "execute_result"
    }
   ],
   "source": [
    "np.mean(X[:,0])"
   ]
  },
  {
   "cell_type": "code",
   "execution_count": 26,
   "metadata": {},
   "outputs": [
    {
     "data": {
      "text/plain": [
       "187.97774338186304"
      ]
     },
     "execution_count": 26,
     "metadata": {},
     "output_type": "execute_result"
    }
   ],
   "source": [
    "np.mean(X[:, 1])"
   ]
  },
  {
   "cell_type": "code",
   "execution_count": 34,
   "metadata": {},
   "outputs": [
    {
     "data": {
      "text/plain": [
       "208.667432437037"
      ]
     },
     "execution_count": 34,
     "metadata": {},
     "output_type": "execute_result"
    }
   ],
   "source": [
    "np.mean(X[0:5, 1])"
   ]
  },
  {
   "cell_type": "code",
   "execution_count": 37,
   "metadata": {},
   "outputs": [
    {
     "name": "stdout",
     "output_type": "stream",
     "text": [
      "67.018949662883\n"
     ]
    }
   ],
   "source": [
    "print(X[8, 0])"
   ]
  },
  {
   "cell_type": "code",
   "execution_count": 46,
   "metadata": {},
   "outputs": [
    {
     "data": {
      "text/plain": [
       "array([157.8702901 , 115.54618828, 143.42548047, 145.88672435,\n",
       "       138.11579824, 109.73258572, 126.35648493, 118.159813  ,\n",
       "       121.47419503, 109.92808518])"
      ]
     },
     "execution_count": 46,
     "metadata": {},
     "output_type": "execute_result"
    }
   ],
   "source": [
    "np.mean(X, axis=1)\n"
   ]
  },
  {
   "cell_type": "code",
   "execution_count": 45,
   "metadata": {},
   "outputs": [
    {
     "data": {
      "text/plain": [
       "array([[  4.52563134,  53.9158198 ],\n",
       "       [ -0.53948164, -25.66727086],\n",
       "       [  4.78871971,  24.76311217],\n",
       "       [  2.40959272,  32.06472692],\n",
       "       [  0.56041018,  18.37205724],\n",
       "       [ -2.06836999, -35.76558762],\n",
       "       [ -0.53630443,  -4.04985478],\n",
       "       [ -0.97287017, -20.00663289],\n",
       "       [ -2.30243602, -12.04830299],\n",
       "       [ -5.8648917 , -31.57806699]])"
      ]
     },
     "execution_count": 45,
     "metadata": {},
     "output_type": "execute_result"
    }
   ],
   "source": [
    "X - np.mean(X, axis=0)"
   ]
  },
  {
   "cell_type": "code",
   "execution_count": 48,
   "metadata": {},
   "outputs": [
    {
     "name": "stdout",
     "output_type": "stream",
     "text": [
      "[[1 2]\n",
      " [3 4]]\n",
      "10\n",
      "[4 6]\n"
     ]
    }
   ],
   "source": [
    "A = np.array([[1,2],[3,4]])\n",
    "print(A)\n",
    "print(np.sum(A))\n",
    "print(np.sum(A, axis=0))"
   ]
  },
  {
   "cell_type": "code",
   "execution_count": 49,
   "metadata": {},
   "outputs": [
    {
     "name": "stdout",
     "output_type": "stream",
     "text": [
      "(4, 3)\n"
     ]
    }
   ],
   "source": [
    "A = np.array([[1,2,3], [4,5,6], [7,8,9], [10,11,12]])\n",
    "print(A.shape)\n",
    "v = np.array([1,0,1])\n",
    "\n",
    "# no need to do A + np.ones((4, 1))*v\n",
    "A + v"
   ]
  },
  {
   "cell_type": "code",
   "execution_count": 50,
   "metadata": {},
   "outputs": [
    {
     "data": {
      "text/plain": [
       "array([[ 1,  2,  3,  4,  5,  6],\n",
       "       [ 7,  8,  9, 10, 11, 12]])"
      ]
     },
     "execution_count": 50,
     "metadata": {},
     "output_type": "execute_result"
    }
   ],
   "source": [
    "A.reshape(2, 6)"
   ]
  },
  {
   "cell_type": "code",
   "execution_count": 51,
   "metadata": {},
   "outputs": [
    {
     "name": "stdout",
     "output_type": "stream",
     "text": [
      "[1 5 4 6 3 4 4 1 2 2 6 5 3 1 5 1 6 5 5 6 6 2 1 5 3 5 2 4 5 2 4 6 6 2 2 4 6\n",
      " 6 3 4 5 5 5 5 6 5 3 4 3 4 6 3 4 2 5 2 2 3 1 1 1 4 4 3 1 2 3 6 3 4 5 6 5 5\n",
      " 4 4 1 5 5 6 6 5 1 2 1 3 6 1 2 5 6 2 3 5 2 1 5 4 1 4 3 6 6 4 1 4 2 5 6 3 4\n",
      " 2 2 3 1 2 4 6 2 1 6 4 2 1 4 1 5 4 3 6 3 6 5 3 6 5 6 4 4 5 1 1 6 6 6 4 2 4\n",
      " 2 1 4 5 1 6 6 4 5 6 2 4 3 2 5 5 5 1 3 6 2 4 5 6 4 4 1 5 3 6 5 5 2 6 4 2 2\n",
      " 3 3 5 3 4 4 1 4 6 2 5 5 2 4 3 1 6 5 2 3 2 5 6 1 5 6 2 3 1 1 1 2 5 5 2 6 5\n",
      " 1 5 6 6 4 2 4 2 5 4 4 3 4 5 6 4 5 1 4 3 4 4 6 1 1 3 2 5 6 1 4 1 2 2 4 1 1\n",
      " 4 3 5 1 2 1 1 2 4 3 6 1 4 5 6 3 4 3 3 3 1 2 1 6 2 5 3 3 1 2 3 3 2 2 3 3 1\n",
      " 1 5 3 3 5 5 1 6 3 6 1 1 4 1 3 3 6 2 1 5 2 2 1 2 5 5 6 2 3 5 4 4 2 6 2 4 6\n",
      " 3 3 4 5 5 3 6 5 3 6 3 2 4 2 5 4 6 5 5 3 2 4 4 2 6 6 1 3 2 1 1 4 5 4 3 6 2\n",
      " 1 1 1 4 6 5 6 1 5 4 5 2 1 6 2 5 6 2 4 4 2 3 4 6 4 3 3 4 1 3 4 5 6 3 1 6 1\n",
      " 2 5 4 3 5 5 4 4 2 6 2 6 1 1 1 4 5 6 3 1 2 6 2 2 6 5 2 4 2 5 5 4 3 5 1 4 1\n",
      " 4 1 4 4 2 4 3 1 4 2 6 6 4 4 1 4 1 3 2 2 2 1 4 6 2 1 1 2 2 1 5 1 3 5 5 3 4\n",
      " 4 1 5 3 3 1 2 1 2 6 5 1 2 5 5 2 2 6 2 1 5 3 3 2 2 5 4 5 4 2 5 1 6 2 4 2 4\n",
      " 3 5 1 5 1 2 6 5 3 3 1 5 3 4 2 2 5 4 5 3 5 4 6 2 4 2 2 2 6 5 5 5 5 4 6 3 3\n",
      " 2 6 6 3 1 3 6 2 1 1 4 4 4 5 4 2 2 4 2 3 2 3 2 1 1 4 1 1 5 6 1 2 4 3 4 1 5\n",
      " 3 3 2 1 2 2 6 3 6 6 3 3 3 6 4 4 3 3 6 6 4 3 5 6 5 5 2 5 4 1 4 3 2 5 2 2 6\n",
      " 1 5 1 5 4 6 2 2 3 5 5 1 2 4 1 1 2 1 5 5 5 2 2 5 5 1 1 4 6 2 1 6 5 5 6 5 4\n",
      " 4 5 4 3 5 6 2 1 4 2 5 5 5 5 2 2 5 2 2 6 5 6 2 6 2 1 6 3 4 4 3 6 1 6 1 6 1\n",
      " 4 6 2 6 2 2 3 1 6 5 5 6 5 3 2 6 1 3 2 1 4 4 1 6 1 2 6 4 5 2 2 6 4 3 3 4 5\n",
      " 2 4 2 4 3 4 2 3 6 6 4 5 1 2 5 3 6 1 6 6 4 3 1 6 4 2 6 1 3 6 6 2 4 3 4 5 1\n",
      " 4 5 1 5 5 1 4 4 5 5 6 6 2 5 4 6 5 2 6 3 3 6 6 1 5 5 5 4 3 6 3 6 4 4 5 6 5\n",
      " 2 4 5 2 6 4 6 2 4 2 4 5 5 1 4 2 5 4 1 6 2 4 3 2 6 4 5 6 5 6 5 6 6 4 1 1 2\n",
      " 3 3 4 2 4 5 4 6 6 1 4 5 4 2 4 6 2 1 1 5 2 6 4 3 1 4 4 4 3 1 4 5 6 4 3 1 2\n",
      " 3 3 6 3 5 6 5 5 6 1 1 5 2 2 3 5 4 4 5 1 2 5 1 6 3 3 3 5 2 5 5 1 6 1 6 6 1\n",
      " 5 1 2 5 3 4 3 1 4 5 1 1 5 2 6 6 2 4 1 1 2 1 4 1 5 4 3 4 5 1 3 5 2 4 1 2 2\n",
      " 3 5 4 2 3 5 4 3 5 2 3 4 3 5 6 4 4 4 3 6 2 3 1 4 2 4 3 5 1 1 2 1 3 5 1 5 2\n",
      " 2]\n",
      "3.528\n"
     ]
    }
   ],
   "source": [
    "dice = np.random.randint(low=1.0, high=7.0, size=1000)\n",
    "print(dice)\n",
    "print(sum(dice)/len(dice))"
   ]
  },
  {
   "cell_type": "code",
   "execution_count": null,
   "metadata": {},
   "outputs": [],
   "source": []
  }
 ],
 "metadata": {
  "kernelspec": {
   "display_name": "Python 3",
   "language": "python",
   "name": "python3"
  },
  "language_info": {
   "codemirror_mode": {
    "name": "ipython",
    "version": 3
   },
   "file_extension": ".py",
   "mimetype": "text/x-python",
   "name": "python",
   "nbconvert_exporter": "python",
   "pygments_lexer": "ipython3",
   "version": "3.7.6"
  }
 },
 "nbformat": 4,
 "nbformat_minor": 2
}
